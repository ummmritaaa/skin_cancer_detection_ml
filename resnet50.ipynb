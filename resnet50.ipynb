{
  "nbformat": 4,
  "nbformat_minor": 0,
  "metadata": {
    "colab": {
      "provenance": []
    },
    "kernelspec": {
      "name": "python3",
      "display_name": "Python 3"
    },
    "language_info": {
      "name": "python"
    }
  },
  "cells": [
    {
      "cell_type": "code",
      "execution_count": null,
      "metadata": {
        "colab": {
          "base_uri": "https://localhost:8080/"
        },
        "id": "HrO47iGscknc",
        "outputId": "3c3ed8f1-00aa-4755-edd8-a6c4f0962cee"
      },
      "outputs": [
        {
          "output_type": "stream",
          "name": "stdout",
          "text": [
            "Mounted at /content/drive/\n"
          ]
        }
      ],
      "source": [
        "from google.colab import drive\n",
        "drive.mount('/content/drive/')"
      ]
    },
    {
      "cell_type": "code",
      "source": [
        "!pip install -q keras"
      ],
      "metadata": {
        "id": "TSciRVqqecbx"
      },
      "execution_count": null,
      "outputs": []
    },
    {
      "cell_type": "code",
      "source": [
        "import keras"
      ],
      "metadata": {
        "id": "NGP1Jy7-etZx"
      },
      "execution_count": null,
      "outputs": []
    },
    {
      "cell_type": "code",
      "source": [
        "import tensorflow as tf\n",
        "import numpy as np\n"
      ],
      "metadata": {
        "id": "HVxR_X6WhzX1"
      },
      "execution_count": null,
      "outputs": []
    },
    {
      "cell_type": "code",
      "source": [
        "import pandas as pd\n",
        "import numpy as np\n",
        "import itertools\n",
        "import keras\n",
        "from sklearn import metrics\n",
        "from sklearn.metrics import confusion_matrix\n",
        "from keras_preprocessing.image import ImageDataGenerator, img_to_array, load_img\n",
        "from keras.models import Sequential\n",
        "from keras import optimizers\n",
        "from keras.preprocessing import image\n",
        "from keras.layers import Dropout, Flatten, Dense\n",
        "from keras import applications\n",
        "from keras.utils.np_utils import to_categorical\n",
        "import matplotlib.pyplot as plt\n",
        "import matplotlib.image as mpimg\n",
        "%matplotlib inline\n",
        "import math\n",
        "import datetime\n",
        "import time"
      ],
      "metadata": {
        "id": "YbefUHoxj7TE"
      },
      "execution_count": null,
      "outputs": []
    },
    {
      "cell_type": "code",
      "source": [
        "#Default dimensions we found online\n",
        "img_width, img_height = 224, 224\n",
        "\n",
        "#Create a bottleneck file\n",
        "top_model_weights_path = 'bottleneck_fc_model.h5'\n",
        "# loading up our datasets\n",
        "train_data_dir='/content/drive/MyDrive/data_rename/train'\n",
        "validation_data_dir='/content/drive/MyDrive/data_rename/test'\n",
        "# number of epochs to train top model\n",
        "epochs = 7 #this has been changed after multiple model run\n",
        "# batch size used by flow_from_directory and predict_generator\n",
        "batch_size = 50"
      ],
      "metadata": {
        "id": "f1Z0VfdBkMnj"
      },
      "execution_count": null,
      "outputs": []
    },
    {
      "cell_type": "code",
      "source": [
        "#Loading vgc16 model\n",
        "vgg16=applications.VGG16(include_top=False, weights='imagenet')\n",
        "datagen = ImageDataGenerator(rescale=1. / 255)\n",
        "#needed to create the bottleneck .npy files"
      ],
      "metadata": {
        "colab": {
          "base_uri": "https://localhost:8080/"
        },
        "id": "wvTFEwbvoD3a",
        "outputId": "8e0c1f2a-25e3-49b3-9600-9c045427d36d"
      },
      "execution_count": null,
      "outputs": [
        {
          "output_type": "stream",
          "name": "stdout",
          "text": [
            "Downloading data from https://storage.googleapis.com/tensorflow/keras-applications/vgg16/vgg16_weights_tf_dim_ordering_tf_kernels_notop.h5\n",
            "58889256/58889256 [==============================] - 0s 0us/step\n"
          ]
        }
      ]
    },
    {
      "cell_type": "code",
      "source": [
        "datagen = ImageDataGenerator(rescale=1. / 255)"
      ],
      "metadata": {
        "id": "CbLpC-JDdfxV"
      },
      "execution_count": null,
      "outputs": []
    },
    {
      "cell_type": "code",
      "source": [
        "#train- creation of weights and features using vgg16\n",
        "start = datetime.datetime.now()\n",
        "\n",
        "generator = datagen.flow_from_directory(\n",
        "    train_data_dir,\n",
        "    target_size=(img_width, img_height),\n",
        "    batch_size=batch_size,\n",
        "    class_mode=None,\n",
        "    shuffle=False)\n",
        "\n",
        "nb_train_samples = len(generator.filenames)\n",
        "num_classes = len(generator.class_indices)\n",
        "\n",
        "predict_size_train = int(math.ceil(nb_train_samples / batch_size))\n",
        "\n",
        "bottleneck_features_train = vgg16.predict_generator(generator, predict_size_train)\n",
        "\n",
        "np.save('bottleneck_features_train.npy', bottleneck_features_train)\n",
        "end= datetime.datetime.now()\n",
        "elapsed= end-start\n",
        "print('Time: ', elapsed)"
      ],
      "metadata": {
        "colab": {
          "base_uri": "https://localhost:8080/"
        },
        "id": "rEo8Q3-VokVh",
        "outputId": "70765789-9da1-4c55-db13-b4fe1e12f895"
      },
      "execution_count": null,
      "outputs": [
        {
          "output_type": "stream",
          "name": "stdout",
          "text": [
            "Found 3360 images belonging to 4 classes.\n",
            "Time:  0:31:07.120718\n"
          ]
        }
      ]
    },
    {
      "cell_type": "code",
      "source": [
        "#validation -creation of weights and features using vgg16\n",
        "start = datetime.datetime.now()\n",
        "\n",
        "generator = datagen.flow_from_directory(\n",
        "    validation_data_dir,\n",
        "    target_size=(img_width, img_height),\n",
        "    batch_size=batch_size,\n",
        "    class_mode=None,\n",
        "    shuffle=False)\n",
        "\n",
        "nb_validation_samples = len(generator.filenames)\n",
        "num_classes = len(generator.class_indices)\n",
        "\n",
        "predict_size_validation = int(math.ceil(nb_validation_samples / batch_size))\n",
        "\n",
        "bottleneck_features_validation = vgg16.predict_generator(generator, predict_size_validation)\n",
        "\n",
        "np.save('bottleneck_features_validation.npy', bottleneck_features_validation)\n",
        "end= datetime.datetime.now()\n",
        "elapsed= end-start\n",
        "print ('Time: ', elapsed)"
      ],
      "metadata": {
        "colab": {
          "base_uri": "https://localhost:8080/"
        },
        "id": "JMOc6LfZsafK",
        "outputId": "85aca90b-6076-4cdd-8a53-c4a87940057d"
      },
      "execution_count": null,
      "outputs": [
        {
          "output_type": "stream",
          "name": "stdout",
          "text": [
            "Found 450 images belonging to 4 classes.\n",
            "Time:  0:05:22.351747\n"
          ]
        }
      ]
    },
    {
      "cell_type": "code",
      "source": [
        "start = datetime.datetime.now()\n",
        "datagen_top = ImageDataGenerator(rescale=1./255)\n",
        "generator_top = datagen_top.flow_from_directory(\n",
        "         train_data_dir,\n",
        "         target_size=(img_width, img_height),\n",
        "         batch_size=batch_size,\n",
        "         class_mode='categorical',\n",
        "         shuffle=False)\n",
        "\n",
        "nb_train_samples = len(generator_top.filenames)\n",
        "num_classes = len(generator_top.class_indices)\n",
        "\n",
        "# load the bottleneck features saved earlier\n",
        "train_data = np.load('bottleneck_features_train.npy')\n",
        "\n",
        "# get the class lebels for the training data, in the original order\n",
        "train_labels = generator_top.classes\n",
        "\n",
        "# convert the training labels to categorical vectors\n",
        "train_labels = to_categorical(train_labels, num_classes=num_classes)\n",
        "end= datetime.datetime.now()\n",
        "elapsed= end-start\n",
        "print ('Time: ', elapsed)\n"
      ],
      "metadata": {
        "colab": {
          "base_uri": "https://localhost:8080/"
        },
        "id": "-_bNSZdVizi3",
        "outputId": "627b0a50-2dde-4910-87aa-ab7fd620bcf9"
      },
      "execution_count": null,
      "outputs": [
        {
          "output_type": "stream",
          "name": "stdout",
          "text": [
            "Found 3360 images belonging to 4 classes.\n",
            "Time:  0:00:01.865465\n"
          ]
        }
      ]
    },
    {
      "cell_type": "code",
      "source": [
        "generator_top = datagen_top.flow_from_directory(\n",
        "         validation_data_dir,\n",
        "         target_size=(img_width, img_height),\n",
        "         batch_size=batch_size,\n",
        "         class_mode=None,\n",
        "         shuffle=False)\n",
        "\n",
        "nb_validation_samples = len(generator_top.filenames)\n",
        "\n",
        "validation_data = np.load('bottleneck_features_validation.npy')\n",
        "\n",
        "\n",
        "validation_labels = generator_top.classes\n",
        "validation_labels = to_categorical(validation_labels, num_classes=num_classes)\n"
      ],
      "metadata": {
        "colab": {
          "base_uri": "https://localhost:8080/"
        },
        "id": "4JzVBM7ti2Lg",
        "outputId": "d8dcc5af-e675-456d-8438-491119cebea4"
      },
      "execution_count": null,
      "outputs": [
        {
          "output_type": "stream",
          "name": "stdout",
          "text": [
            "Found 450 images belonging to 4 classes.\n"
          ]
        }
      ]
    },
    {
      "cell_type": "code",
      "source": [
        "#method1\n",
        "start = datetime.datetime.now()\n",
        "model = Sequential()\n",
        "model.add(Flatten(input_shape=train_data.shape[1:]))\n",
        "model.add(Dense(256, activation='relu'))\n",
        "model.add(Dropout(0.5))\n",
        "model.add(Dense(num_classes, activation='softmax'))\n",
        "\n",
        "model.compile(optimizer='rmsprop',\n",
        "          loss='categorical_crossentropy', metrics=['accuracy'])\n",
        "\n",
        "history = model.fit(train_data, train_labels,\n",
        "      epochs=5,\n",
        "      batch_size=batch_size,\n",
        "      validation_data=(validation_data, validation_labels))\n",
        "\n",
        "model.save_weights(top_model_weights_path)\n",
        "\n",
        "(eval_loss, eval_accuracy) = model.evaluate(\n",
        " validation_data, validation_labels, batch_size=batch_size, verbose=1)\n",
        "\n",
        "print(\"[INFO] accuracy: {:.2f}%\".format(eval_accuracy * 100))\n",
        "print(\"[INFO] Loss: {}\".format(eval_loss))\n",
        "end= datetime.datetime.now()\n",
        "elapsed= end-start\n",
        "print ('Time: ', elapsed)\n"
      ],
      "metadata": {
        "colab": {
          "base_uri": "https://localhost:8080/"
        },
        "id": "2yqe3tHQi9IC",
        "outputId": "49a53fc9-a535-4ffd-9faf-70bbaa3d587a"
      },
      "execution_count": null,
      "outputs": [
        {
          "output_type": "stream",
          "name": "stdout",
          "text": [
            "Epoch 1/5\n"
          ]
        },
        {
          "output_type": "stream",
          "name": "stderr",
          "text": [
            "WARNING:tensorflow:AutoGraph could not transform <function Model.make_train_function.<locals>.train_function at 0x7fb504608040> and will run it as-is.\n",
            "Please report this to the TensorFlow team. When filing the bug, set the verbosity to 10 (on Linux, `export AUTOGRAPH_VERBOSITY=10`) and attach the full output.\n",
            "Cause: closure mismatch, requested ('self', 'step_function'), but source function had ()\n",
            "To silence this warning, decorate the function with @tf.autograph.experimental.do_not_convert\n"
          ]
        },
        {
          "output_type": "stream",
          "name": "stdout",
          "text": [
            "WARNING: AutoGraph could not transform <function Model.make_train_function.<locals>.train_function at 0x7fb504608040> and will run it as-is.\n",
            "Please report this to the TensorFlow team. When filing the bug, set the verbosity to 10 (on Linux, `export AUTOGRAPH_VERBOSITY=10`) and attach the full output.\n",
            "Cause: closure mismatch, requested ('self', 'step_function'), but source function had ()\n",
            "To silence this warning, decorate the function with @tf.autograph.experimental.do_not_convert\n",
            "34/34 [==============================] - ETA: 0s - loss: 3.6270 - accuracy: 0.4536"
          ]
        },
        {
          "output_type": "stream",
          "name": "stderr",
          "text": [
            "WARNING:tensorflow:AutoGraph could not transform <function Model.make_test_function.<locals>.test_function at 0x7fb5087d1dc0> and will run it as-is.\n",
            "Please report this to the TensorFlow team. When filing the bug, set the verbosity to 10 (on Linux, `export AUTOGRAPH_VERBOSITY=10`) and attach the full output.\n",
            "Cause: closure mismatch, requested ('self', 'step_function'), but source function had ()\n",
            "To silence this warning, decorate the function with @tf.autograph.experimental.do_not_convert\n"
          ]
        },
        {
          "output_type": "stream",
          "name": "stdout",
          "text": [
            "WARNING: AutoGraph could not transform <function Model.make_test_function.<locals>.test_function at 0x7fb5087d1dc0> and will run it as-is.\n",
            "Please report this to the TensorFlow team. When filing the bug, set the verbosity to 10 (on Linux, `export AUTOGRAPH_VERBOSITY=10`) and attach the full output.\n",
            "Cause: closure mismatch, requested ('self', 'step_function'), but source function had ()\n",
            "To silence this warning, decorate the function with @tf.autograph.experimental.do_not_convert\n",
            "34/34 [==============================] - 7s 184ms/step - loss: 3.6270 - accuracy: 0.4536 - val_loss: 1.1773 - val_accuracy: 0.4622\n",
            "Epoch 2/5\n",
            "34/34 [==============================] - 4s 105ms/step - loss: 0.9865 - accuracy: 0.5747 - val_loss: 1.2567 - val_accuracy: 0.4333\n",
            "Epoch 3/5\n",
            "34/34 [==============================] - 4s 106ms/step - loss: 0.9047 - accuracy: 0.6128 - val_loss: 0.7994 - val_accuracy: 0.6333\n",
            "Epoch 4/5\n",
            "34/34 [==============================] - 4s 129ms/step - loss: 0.7897 - accuracy: 0.6548 - val_loss: 0.7998 - val_accuracy: 0.6378\n",
            "Epoch 5/5\n",
            "34/34 [==============================] - 4s 111ms/step - loss: 0.7437 - accuracy: 0.6780 - val_loss: 0.8632 - val_accuracy: 0.5844\n",
            "5/5 [==============================] - 0s 32ms/step - loss: 0.8632 - accuracy: 0.5844\n",
            "[INFO] accuracy: 58.44%\n",
            "[INFO] Loss: 0.8631531000137329\n",
            "Time:  0:00:22.764060\n"
          ]
        }
      ]
    },
    {
      "cell_type": "code",
      "source": [
        "#method2\n",
        "start = datetime.datetime.now()\n",
        "model = Sequential()\n",
        "model.add(Flatten(input_shape=train_data.shape[1:]))\n",
        "model.add(Dense(100, activation='relu'))\n",
        "model.add(Dropout(0.5))\n",
        "model.add(Dense(50, activation='relu'))\n",
        "model.add(Dropout(0.3))\n",
        "model.add(Dense(num_classes, activation='softmax'))\n",
        "\n",
        "model.compile(loss='categorical_crossentropy',\n",
        "              optimizer=optimizers.RMSprop(lr=1e-4),\n",
        "              metrics=['acc'])\n",
        "\n",
        "history = model.fit(train_data, train_labels,\n",
        "      epochs=7,\n",
        "      batch_size=batch_size,\n",
        "      validation_data=(validation_data, validation_labels))\n",
        "\n",
        "model.save_weights(top_model_weights_path)\n",
        "\n",
        "(eval_loss, eval_accuracy) = model.evaluate(\n",
        " validation_data, validation_labels, batch_size=batch_size, verbose=1)\n",
        "\n",
        "print(\"[INFO] accuracy: {:.2f}%\".format(eval_accuracy * 100))\n",
        "print(\"[INFO] Loss: {}\".format(eval_loss))\n",
        "end= datetime.datetime.now()\n",
        "elapsed= end-start\n",
        "print ('Time: ', elapsed)\n"
      ],
      "metadata": {
        "colab": {
          "base_uri": "https://localhost:8080/"
        },
        "id": "PVg3_kSsjIUh",
        "outputId": "11503897-166e-4974-b132-21d7a4ff951a"
      },
      "execution_count": null,
      "outputs": [
        {
          "output_type": "stream",
          "name": "stdout",
          "text": [
            "Epoch 1/7\n"
          ]
        },
        {
          "output_type": "stream",
          "name": "stderr",
          "text": [
            "WARNING:tensorflow:AutoGraph could not transform <function Model.make_train_function.<locals>.train_function at 0x7fb5087938b0> and will run it as-is.\n",
            "Please report this to the TensorFlow team. When filing the bug, set the verbosity to 10 (on Linux, `export AUTOGRAPH_VERBOSITY=10`) and attach the full output.\n",
            "Cause: closure mismatch, requested ('self', 'step_function'), but source function had ()\n",
            "To silence this warning, decorate the function with @tf.autograph.experimental.do_not_convert\n"
          ]
        },
        {
          "output_type": "stream",
          "name": "stdout",
          "text": [
            "WARNING: AutoGraph could not transform <function Model.make_train_function.<locals>.train_function at 0x7fb5087938b0> and will run it as-is.\n",
            "Please report this to the TensorFlow team. When filing the bug, set the verbosity to 10 (on Linux, `export AUTOGRAPH_VERBOSITY=10`) and attach the full output.\n",
            "Cause: closure mismatch, requested ('self', 'step_function'), but source function had ()\n",
            "To silence this warning, decorate the function with @tf.autograph.experimental.do_not_convert\n",
            "33/34 [============================>.] - ETA: 0s - loss: 1.2398 - acc: 0.4394"
          ]
        },
        {
          "output_type": "stream",
          "name": "stderr",
          "text": [
            "WARNING:tensorflow:AutoGraph could not transform <function Model.make_test_function.<locals>.test_function at 0x7fb50c94d1f0> and will run it as-is.\n",
            "Please report this to the TensorFlow team. When filing the bug, set the verbosity to 10 (on Linux, `export AUTOGRAPH_VERBOSITY=10`) and attach the full output.\n",
            "Cause: closure mismatch, requested ('self', 'step_function'), but source function had ()\n",
            "To silence this warning, decorate the function with @tf.autograph.experimental.do_not_convert\n"
          ]
        },
        {
          "output_type": "stream",
          "name": "stdout",
          "text": [
            "WARNING: AutoGraph could not transform <function Model.make_test_function.<locals>.test_function at 0x7fb50c94d1f0> and will run it as-is.\n",
            "Please report this to the TensorFlow team. When filing the bug, set the verbosity to 10 (on Linux, `export AUTOGRAPH_VERBOSITY=10`) and attach the full output.\n",
            "Cause: closure mismatch, requested ('self', 'step_function'), but source function had ()\n",
            "To silence this warning, decorate the function with @tf.autograph.experimental.do_not_convert\n",
            "34/34 [==============================] - 2s 56ms/step - loss: 1.2356 - acc: 0.4423 - val_loss: 1.0191 - val_acc: 0.5378\n",
            "Epoch 2/7\n",
            "34/34 [==============================] - 2s 52ms/step - loss: 1.0199 - acc: 0.5577 - val_loss: 0.9351 - val_acc: 0.5800\n",
            "Epoch 3/7\n",
            "34/34 [==============================] - 2s 50ms/step - loss: 0.9131 - acc: 0.6051 - val_loss: 0.8549 - val_acc: 0.6200\n",
            "Epoch 4/7\n",
            "34/34 [==============================] - 2s 51ms/step - loss: 0.8584 - acc: 0.6467 - val_loss: 0.8020 - val_acc: 0.6311\n",
            "Epoch 5/7\n",
            "34/34 [==============================] - 2s 50ms/step - loss: 0.7992 - acc: 0.6607 - val_loss: 0.7685 - val_acc: 0.6444\n",
            "Epoch 6/7\n",
            "34/34 [==============================] - 2s 51ms/step - loss: 0.7702 - acc: 0.6673 - val_loss: 0.7203 - val_acc: 0.6756\n",
            "Epoch 7/7\n",
            "34/34 [==============================] - 2s 50ms/step - loss: 0.7158 - acc: 0.6940 - val_loss: 0.7104 - val_acc: 0.6867\n",
            "5/5 [==============================] - 0s 19ms/step - loss: 0.7104 - acc: 0.6867\n",
            "[INFO] accuracy: 68.67%\n",
            "[INFO] Loss: 0.7103767991065979\n",
            "Time:  0:00:13.151845\n"
          ]
        }
      ]
    },
    {
      "cell_type": "code",
      "source": [
        "#method3\n",
        "import keras\n",
        "from keras import optimizers\n",
        "start = datetime.datetime.now()\n",
        "model = Sequential()\n",
        "model.add(Flatten(input_shape=train_data.shape[1:]))\n",
        "model.add(Dense(100, activation=keras.layers.LeakyReLU(alpha=0.3)))\n",
        "model.add(Dropout(0.5))\n",
        "model.add(Dense(50, activation=keras.layers.LeakyReLU(alpha=0.3)))\n",
        "model.add(Dropout(0.3))\n",
        "model.add(Dense(num_classes, activation='softmax'))\n",
        "\n",
        "model.compile(loss='categorical_crossentropy',\n",
        "              optimizer=optimizers.RMSprop(lr=1e-4),\n",
        "              metrics=['acc'])\n",
        "\n",
        "history = model.fit(train_data, train_labels,\n",
        "      epochs=7,\n",
        "      batch_size=batch_size,\n",
        "      validation_data=(validation_data, validation_labels))\n",
        "\n",
        "model.save_weights(top_model_weights_path)\n",
        "\n",
        "(eval_loss, eval_accuracy) = model.evaluate(\n",
        " validation_data, validation_labels, batch_size=batch_size, verbose=1)\n",
        "\n",
        "print(\"[INFO] accuracy: {:.2f}%\".format(eval_accuracy * 100))\n",
        "print(\"[INFO] Loss: {}\".format(eval_loss))\n",
        "end= datetime.datetime.now()\n",
        "elapsed= end-start\n",
        "print ('Time: ', elapsed)"
      ],
      "metadata": {
        "colab": {
          "base_uri": "https://localhost:8080/"
        },
        "id": "5Q04SgvBjR2D",
        "outputId": "53c216b1-780e-4c7e-a1e5-bc350d0bd537"
      },
      "execution_count": null,
      "outputs": [
        {
          "output_type": "stream",
          "name": "stdout",
          "text": [
            "Epoch 1/7\n"
          ]
        },
        {
          "output_type": "stream",
          "name": "stderr",
          "text": [
            "WARNING:tensorflow:AutoGraph could not transform <function Model.make_train_function.<locals>.train_function at 0x7fb50d997550> and will run it as-is.\n",
            "Please report this to the TensorFlow team. When filing the bug, set the verbosity to 10 (on Linux, `export AUTOGRAPH_VERBOSITY=10`) and attach the full output.\n",
            "Cause: closure mismatch, requested ('self', 'step_function'), but source function had ()\n",
            "To silence this warning, decorate the function with @tf.autograph.experimental.do_not_convert\n"
          ]
        },
        {
          "output_type": "stream",
          "name": "stdout",
          "text": [
            "WARNING: AutoGraph could not transform <function Model.make_train_function.<locals>.train_function at 0x7fb50d997550> and will run it as-is.\n",
            "Please report this to the TensorFlow team. When filing the bug, set the verbosity to 10 (on Linux, `export AUTOGRAPH_VERBOSITY=10`) and attach the full output.\n",
            "Cause: closure mismatch, requested ('self', 'step_function'), but source function had ()\n",
            "To silence this warning, decorate the function with @tf.autograph.experimental.do_not_convert\n",
            "33/34 [============================>.] - ETA: 0s - loss: 1.2521 - acc: 0.4597"
          ]
        },
        {
          "output_type": "stream",
          "name": "stderr",
          "text": [
            "WARNING:tensorflow:AutoGraph could not transform <function Model.make_test_function.<locals>.test_function at 0x7fb511ad7b80> and will run it as-is.\n",
            "Please report this to the TensorFlow team. When filing the bug, set the verbosity to 10 (on Linux, `export AUTOGRAPH_VERBOSITY=10`) and attach the full output.\n",
            "Cause: closure mismatch, requested ('self', 'step_function'), but source function had ()\n",
            "To silence this warning, decorate the function with @tf.autograph.experimental.do_not_convert\n"
          ]
        },
        {
          "output_type": "stream",
          "name": "stdout",
          "text": [
            "WARNING: AutoGraph could not transform <function Model.make_test_function.<locals>.test_function at 0x7fb511ad7b80> and will run it as-is.\n",
            "Please report this to the TensorFlow team. When filing the bug, set the verbosity to 10 (on Linux, `export AUTOGRAPH_VERBOSITY=10`) and attach the full output.\n",
            "Cause: closure mismatch, requested ('self', 'step_function'), but source function had ()\n",
            "To silence this warning, decorate the function with @tf.autograph.experimental.do_not_convert\n",
            "34/34 [==============================] - 3s 67ms/step - loss: 1.2460 - acc: 0.4640 - val_loss: 1.0164 - val_acc: 0.5400\n",
            "Epoch 2/7\n",
            "34/34 [==============================] - 2s 59ms/step - loss: 0.9328 - acc: 0.6048 - val_loss: 0.9737 - val_acc: 0.5689\n",
            "Epoch 3/7\n",
            "34/34 [==============================] - 2s 60ms/step - loss: 0.8171 - acc: 0.6557 - val_loss: 0.7798 - val_acc: 0.6378\n",
            "Epoch 4/7\n",
            "34/34 [==============================] - 2s 59ms/step - loss: 0.7661 - acc: 0.6795 - val_loss: 0.8719 - val_acc: 0.5711\n",
            "Epoch 5/7\n",
            "34/34 [==============================] - 2s 58ms/step - loss: 0.7045 - acc: 0.6994 - val_loss: 0.7929 - val_acc: 0.6556\n",
            "Epoch 6/7\n",
            "34/34 [==============================] - 2s 57ms/step - loss: 0.6376 - acc: 0.7372 - val_loss: 0.7298 - val_acc: 0.6733\n",
            "Epoch 7/7\n",
            "34/34 [==============================] - 2s 59ms/step - loss: 0.6417 - acc: 0.7241 - val_loss: 0.7126 - val_acc: 0.6444\n",
            "5/5 [==============================] - 0s 18ms/step - loss: 0.7126 - acc: 0.6444\n",
            "[INFO] accuracy: 64.44%\n",
            "[INFO] Loss: 0.7126021385192871\n",
            "Time:  0:00:15.257985\n"
          ]
        }
      ]
    },
    {
      "cell_type": "code",
      "source": [
        "import matplotlib.pyplot as plt\n",
        "%matplotlib inline\n",
        "\n",
        "acc = history.history['accuracy']\n",
        "val_acc = history.history['val_accuracy']\n",
        "loss = history.history['loss']\n",
        "val_loss = history.history['val_loss']\n",
        "epochs = range(len(acc))\n",
        "plt.plot(epochs, acc, 'r', label='Training accuracy')\n",
        "plt.plot(epochs, val_acc, 'b', label='Validation accuracy')\n",
        "plt.title('Training and validation accuracy')\n",
        "plt.ylabel('accuracy')\n",
        "plt.xlabel('epoch')\n",
        "plt.legend()\n",
        "plt.figure()\n",
        "plt.plot(epochs, loss, 'r', label='Training loss')\n",
        "plt.plot(epochs, val_loss, 'b', label='Validation loss')\n",
        "plt.title('Training and validation loss')\n",
        "plt.ylabel('loss')\n",
        "plt.xlabel('epoch')\n",
        "plt.legend()\n",
        "plt.show()\n"
      ],
      "metadata": {
        "colab": {
          "base_uri": "https://localhost:8080/",
          "height": 573
        },
        "id": "fu33bIcxk4JK",
        "outputId": "e14db8b8-bb6f-432f-d2df-e648adcfd283"
      },
      "execution_count": null,
      "outputs": [
        {
          "output_type": "display_data",
          "data": {
            "text/plain": [
              "<Figure size 432x288 with 1 Axes>"
            ],
            "image/png": "[encoded data removed]"
          },
          "metadata": {
            "needs_background": "light"
          }
        },
        {
          "output_type": "display_data",
          "data": {
            "text/plain": [
              "<Figure size 432x288 with 1 Axes>"
            ],
            "image/png": "[encoded data removed]"
          },
          "metadata": {
            "needs_background": "light"
          }
        }
      ]
    },
    {
      "cell_type": "code",
      "source": [],
      "metadata": {
        "id": "DGg4RuOck4Mn"
      },
      "execution_count": null,
      "outputs": []
    },
    {
      "cell_type": "code",
      "source": [
        "#method4\n",
        "start = datetime.datetime.now()\n",
        "model = Sequential()\n",
        "model.add(Flatten(input_shape=train_data.shape[1:]))\n",
        "model.add(Dense(200, activation='relu'))\n",
        "model.add(Dropout(0.5))\n",
        "model.add(Dense(100, activation='relu'))\n",
        "model.add(Dropout(0.6))\n",
        "model.add(Dense(50, activation='relu'))\n",
        "model.add(Dense(num_classes, activation='softmax'))\n",
        "\n",
        "model.compile(optimizer='rmsprop',\n",
        "          loss='categorical_crossentropy', metrics=['accuracy'])\n",
        "\n",
        "history = model.fit(train_data, train_labels,\n",
        "      epochs=20,\n",
        "      batch_size=batch_size,\n",
        "      validation_data=(validation_data, validation_labels))\n",
        "\n",
        "model.save_weights(top_model_weights_path)\n",
        "\n",
        "(eval_loss, eval_accuracy) = model.evaluate(\n",
        " validation_data, validation_labels, batch_size=batch_size, verbose=1)\n",
        "\n",
        "print(\"[INFO] accuracy: {:.2f}%\".format(eval_accuracy * 100))\n",
        "print(\"[INFO] Loss: {}\".format(eval_loss))\n",
        "end= datetime.datetime.now()\n",
        "elapsed= end-start\n",
        "print ('Time: ', elapsed)"
      ],
      "metadata": {
        "colab": {
          "base_uri": "https://localhost:8080/"
        },
        "id": "y8tz0ydbjYlY",
        "outputId": "172a1bbf-0214-4ef5-c378-8c1aec6d0f2d"
      },
      "execution_count": null,
      "outputs": [
        {
          "output_type": "stream",
          "name": "stdout",
          "text": [
            "Epoch 1/20\n"
          ]
        },
        {
          "output_type": "stream",
          "name": "stderr",
          "text": [
            "WARNING:tensorflow:AutoGraph could not transform <function Model.make_train_function.<locals>.train_function at 0x7fb50c85fd30> and will run it as-is.\n",
            "Please report this to the TensorFlow team. When filing the bug, set the verbosity to 10 (on Linux, `export AUTOGRAPH_VERBOSITY=10`) and attach the full output.\n",
            "Cause: closure mismatch, requested ('self', 'step_function'), but source function had ()\n",
            "To silence this warning, decorate the function with @tf.autograph.experimental.do_not_convert\n"
          ]
        },
        {
          "output_type": "stream",
          "name": "stdout",
          "text": [
            "WARNING: AutoGraph could not transform <function Model.make_train_function.<locals>.train_function at 0x7fb50c85fd30> and will run it as-is.\n",
            "Please report this to the TensorFlow team. When filing the bug, set the verbosity to 10 (on Linux, `export AUTOGRAPH_VERBOSITY=10`) and attach the full output.\n",
            "Cause: closure mismatch, requested ('self', 'step_function'), but source function had ()\n",
            "To silence this warning, decorate the function with @tf.autograph.experimental.do_not_convert\n",
            "34/34 [==============================] - ETA: 0s - loss: 1.8140 - accuracy: 0.3372"
          ]
        },
        {
          "output_type": "stream",
          "name": "stderr",
          "text": [
            "WARNING:tensorflow:AutoGraph could not transform <function Model.make_test_function.<locals>.test_function at 0x7fb515c231f0> and will run it as-is.\n",
            "Please report this to the TensorFlow team. When filing the bug, set the verbosity to 10 (on Linux, `export AUTOGRAPH_VERBOSITY=10`) and attach the full output.\n",
            "Cause: closure mismatch, requested ('self', 'step_function'), but source function had ()\n",
            "To silence this warning, decorate the function with @tf.autograph.experimental.do_not_convert\n"
          ]
        },
        {
          "output_type": "stream",
          "name": "stdout",
          "text": [
            "WARNING: AutoGraph could not transform <function Model.make_test_function.<locals>.test_function at 0x7fb515c231f0> and will run it as-is.\n",
            "Please report this to the TensorFlow team. When filing the bug, set the verbosity to 10 (on Linux, `export AUTOGRAPH_VERBOSITY=10`) and attach the full output.\n",
            "Cause: closure mismatch, requested ('self', 'step_function'), but source function had ()\n",
            "To silence this warning, decorate the function with @tf.autograph.experimental.do_not_convert\n",
            "34/34 [==============================] - 6s 148ms/step - loss: 1.8140 - accuracy: 0.3372 - val_loss: 1.2179 - val_accuracy: 0.4178\n",
            "Epoch 2/20\n",
            "34/34 [==============================] - 3s 98ms/step - loss: 1.2126 - accuracy: 0.4301 - val_loss: 1.0696 - val_accuracy: 0.5511\n",
            "Epoch 3/20\n",
            "34/34 [==============================] - 3s 94ms/step - loss: 1.0924 - accuracy: 0.4890 - val_loss: 0.9489 - val_accuracy: 0.6067\n",
            "Epoch 4/20\n",
            "34/34 [==============================] - 3s 97ms/step - loss: 1.0149 - accuracy: 0.5274 - val_loss: 0.8817 - val_accuracy: 0.5556\n",
            "Epoch 5/20\n",
            "34/34 [==============================] - 3s 95ms/step - loss: 0.9247 - accuracy: 0.5640 - val_loss: 0.8932 - val_accuracy: 0.5733\n",
            "Epoch 6/20\n",
            "34/34 [==============================] - 3s 96ms/step - loss: 0.8814 - accuracy: 0.5857 - val_loss: 0.8525 - val_accuracy: 0.6422\n",
            "Epoch 7/20\n",
            "34/34 [==============================] - 3s 95ms/step - loss: 0.8298 - accuracy: 0.6045 - val_loss: 0.7589 - val_accuracy: 0.6889\n",
            "Epoch 8/20\n",
            "34/34 [==============================] - 4s 120ms/step - loss: 0.8247 - accuracy: 0.6095 - val_loss: 0.8730 - val_accuracy: 0.6533\n",
            "Epoch 9/20\n",
            "34/34 [==============================] - 5s 159ms/step - loss: 0.7784 - accuracy: 0.6304 - val_loss: 0.7752 - val_accuracy: 0.6089\n",
            "Epoch 10/20\n",
            "34/34 [==============================] - 3s 99ms/step - loss: 0.7386 - accuracy: 0.6339 - val_loss: 0.6784 - val_accuracy: 0.7111\n",
            "Epoch 11/20\n",
            "34/34 [==============================] - 3s 90ms/step - loss: 0.7432 - accuracy: 0.6399 - val_loss: 0.6497 - val_accuracy: 0.7111\n",
            "Epoch 12/20\n",
            "34/34 [==============================] - 3s 89ms/step - loss: 0.7622 - accuracy: 0.6503 - val_loss: 0.6729 - val_accuracy: 0.7244\n",
            "Epoch 13/20\n",
            "34/34 [==============================] - 3s 89ms/step - loss: 0.7468 - accuracy: 0.6461 - val_loss: 0.6632 - val_accuracy: 0.7400\n",
            "Epoch 14/20\n",
            "34/34 [==============================] - 3s 90ms/step - loss: 0.6814 - accuracy: 0.6741 - val_loss: 0.6788 - val_accuracy: 0.7044\n",
            "Epoch 15/20\n",
            "34/34 [==============================] - 4s 104ms/step - loss: 0.7005 - accuracy: 0.6696 - val_loss: 0.6125 - val_accuracy: 0.7356\n",
            "Epoch 16/20\n",
            "34/34 [==============================] - 5s 153ms/step - loss: 0.6819 - accuracy: 0.6738 - val_loss: 0.5946 - val_accuracy: 0.7311\n",
            "Epoch 17/20\n",
            "34/34 [==============================] - 4s 111ms/step - loss: 0.6253 - accuracy: 0.7048 - val_loss: 0.6733 - val_accuracy: 0.6867\n",
            "Epoch 18/20\n",
            "34/34 [==============================] - 3s 90ms/step - loss: 0.6697 - accuracy: 0.6783 - val_loss: 0.6812 - val_accuracy: 0.7200\n",
            "Epoch 19/20\n",
            "34/34 [==============================] - 3s 89ms/step - loss: 0.6335 - accuracy: 0.6917 - val_loss: 0.6351 - val_accuracy: 0.7067\n",
            "Epoch 20/20\n",
            "34/34 [==============================] - 3s 88ms/step - loss: 0.6442 - accuracy: 0.6964 - val_loss: 0.6091 - val_accuracy: 0.7489\n",
            "5/5 [==============================] - 0s 25ms/step - loss: 0.6091 - accuracy: 0.7489\n",
            "[INFO] accuracy: 74.89%\n",
            "[INFO] Loss: 0.6090827584266663\n",
            "Time:  0:01:13.025381\n"
          ]
        }
      ]
    },
    {
      "cell_type": "code",
      "source": [
        "plt.figure(1)\n",
        "\n",
        "# summarize history for accuracy\n",
        "\n",
        "plt.subplot(211)\n",
        "plt.plot(history.history['accuracy'])\n",
        "plt.plot(history.history['val_accuracy'])\n",
        "plt.title('model accuracy')\n",
        "plt.ylabel('accuracy')\n",
        "plt.xlabel('epoch')\n",
        "plt.legend(['train', 'validation'], loc='upper left')\n",
        ""
      ],
      "metadata": {
        "colab": {
          "base_uri": "https://localhost:8080/",
          "height": 194
        },
        "id": "CFxBt-iTli4T",
        "outputId": "024f6658-9c6b-4769-d485-0a94c10463b9"
      },
      "execution_count": null,
      "outputs": [
        {
          "output_type": "execute_result",
          "data": {
            "text/plain": [
              "<matplotlib.legend.Legend at 0x7fb50c88c7c0>"
            ]
          },
          "metadata": {},
          "execution_count": 125
        },
        {
          "output_type": "display_data",
          "data": {
            "text/plain": [
              "<Figure size 432x288 with 1 Axes>"
            ],
            "image/png": "[encoded data removed]"
          },
          "metadata": {
            "needs_background": "light"
          }
        }
      ]
    },
    {
      "cell_type": "code",
      "source": [
        "plt.subplot(212)\n",
        "plt.plot(history.history['loss'])\n",
        "plt.plot(history.history['val_loss'])\n",
        "plt.title('model loss')\n",
        "plt.ylabel('loss')\n",
        "plt.xlabel('epoch')\n",
        "plt.legend(['train', 'validation'], loc='upper left')\n",
        "plt.show()\n",
        "\n"
      ],
      "metadata": {
        "colab": {
          "base_uri": "https://localhost:8080/",
          "height": 177
        },
        "id": "hCO1nXtqls4I",
        "outputId": "88e53b69-64d8-47f5-ac3b-1a05bf6d8474"
      },
      "execution_count": null,
      "outputs": [
        {
          "output_type": "display_data",
          "data": {
            "text/plain": [
              "<Figure size 432x288 with 1 Axes>"
            ],
            "image/png": "[encoded data removed]"
          },
          "metadata": {
            "needs_background": "light"
          }
        }
      ]
    },
    {
      "cell_type": "code",
      "source": [
        "\n",
        "model.summary()"
      ],
      "metadata": {
        "colab": {
          "base_uri": "https://localhost:8080/"
        },
        "id": "S0iWdm12mShs",
        "outputId": "24f6ca39-8ed8-4be4-e817-a9a739886e2d"
      },
      "execution_count": null,
      "outputs": [
        {
          "output_type": "stream",
          "name": "stdout",
          "text": [
            "Model: \"sequential_40\"\n",
            "_________________________________________________________________\n",
            " Layer (type)                Output Shape              Param #   \n",
            "=================================================================\n",
            " flatten_39 (Flatten)        (None, 25088)             0         \n",
            "                                                                 \n",
            " dense_112 (Dense)           (None, 200)               5017800   \n",
            "                                                                 \n",
            " dropout_71 (Dropout)        (None, 200)               0         \n",
            "                                                                 \n",
            " dense_113 (Dense)           (None, 100)               20100     \n",
            "                                                                 \n",
            " dropout_72 (Dropout)        (None, 100)               0         \n",
            "                                                                 \n",
            " dense_114 (Dense)           (None, 50)                5050      \n",
            "                                                                 \n",
            " dense_115 (Dense)           (None, 4)                 204       \n",
            "                                                                 \n",
            "=================================================================\n",
            "Total params: 5,043,154\n",
            "Trainable params: 5,043,154\n",
            "Non-trainable params: 0\n",
            "_________________________________________________________________\n"
          ]
        }
      ]
    },
    {
      "cell_type": "code",
      "source": [
        "model.evaluate(test_data, test_labels)"
      ],
      "metadata": {
        "colab": {
          "base_uri": "https://localhost:8080/"
        },
        "id": "2J6Tnu8smVPq",
        "outputId": "bca1b3e8-9b4e-4ef5-86b3-4e743374731b"
      },
      "execution_count": null,
      "outputs": [
        {
          "output_type": "stream",
          "name": "stdout",
          "text": [
            "15/15 [==============================] - 1s 34ms/step - loss: 0.6091 - accuracy: 0.7489\n"
          ]
        },
        {
          "output_type": "execute_result",
          "data": {
            "text/plain": [
              "[0.6090826988220215, 0.7488889098167419]"
            ]
          },
          "metadata": {},
          "execution_count": 128
        }
      ]
    },
    {
      "cell_type": "code",
      "source": [
        "from sklearn import metrics\n",
        "from sklearn.metrics import confusion_matrix\n"
      ],
      "metadata": {
        "id": "ShKFo7P7ma5E"
      },
      "execution_count": null,
      "outputs": []
    },
    {
      "cell_type": "code",
      "source": [
        "preds = np.round(model.predict(test_data),0)"
      ],
      "metadata": {
        "colab": {
          "base_uri": "https://localhost:8080/"
        },
        "id": "qCBfJXNrmfPQ",
        "outputId": "bd43d661-dc56-4bcb-d2e4-563c70a25f1f"
      },
      "execution_count": null,
      "outputs": [
        {
          "output_type": "stream",
          "name": "stderr",
          "text": [
            "WARNING:tensorflow:AutoGraph could not transform <function Model.make_predict_function.<locals>.predict_function at 0x7fb531b0aee0> and will run it as-is.\n",
            "Please report this to the TensorFlow team. When filing the bug, set the verbosity to 10 (on Linux, `export AUTOGRAPH_VERBOSITY=10`) and attach the full output.\n",
            "Cause: closure mismatch, requested ('self', 'step_function'), but source function had ()\n",
            "To silence this warning, decorate the function with @tf.autograph.experimental.do_not_convert\n"
          ]
        },
        {
          "output_type": "stream",
          "name": "stdout",
          "text": [
            "WARNING: AutoGraph could not transform <function Model.make_predict_function.<locals>.predict_function at 0x7fb531b0aee0> and will run it as-is.\n",
            "Please report this to the TensorFlow team. When filing the bug, set the verbosity to 10 (on Linux, `export AUTOGRAPH_VERBOSITY=10`) and attach the full output.\n",
            "Cause: closure mismatch, requested ('self', 'step_function'), but source function had ()\n",
            "To silence this warning, decorate the function with @tf.autograph.experimental.do_not_convert\n",
            "15/15 [==============================] - 0s 20ms/step\n"
          ]
        }
      ]
    },
    {
      "cell_type": "code",
      "source": [
        "len(test_labels)"
      ],
      "metadata": {
        "colab": {
          "base_uri": "https://localhost:8080/"
        },
        "id": "gjoQjNOMmmFc",
        "outputId": "40a7c5ce-40e2-4ab4-cb9a-8ff29a616a94"
      },
      "execution_count": null,
      "outputs": [
        {
          "output_type": "execute_result",
          "data": {
            "text/plain": [
              "450"
            ]
          },
          "metadata": {},
          "execution_count": 131
        }
      ]
    },
    {
      "cell_type": "code",
      "source": [
        "\n",
        "classification_metrics = metrics.classification_report(test_labels, preds)"
      ],
      "metadata": {
        "id": "2Uddqk8lmn5-"
      },
      "execution_count": null,
      "outputs": []
    },
    {
      "cell_type": "code",
      "source": [
        "\n",
        "print(classification_metrics)"
      ],
      "metadata": {
        "colab": {
          "base_uri": "https://localhost:8080/"
        },
        "id": "IOo-cjDHmsB-",
        "outputId": "9fba95ca-8a03-4c48-88b0-b8ca9b70fb5b"
      },
      "execution_count": null,
      "outputs": [
        {
          "output_type": "stream",
          "name": "stdout",
          "text": [
            "              precision    recall  f1-score   support\n",
            "\n",
            "           0       0.96      0.93      0.94       115\n",
            "           1       0.70      0.74      0.72       115\n",
            "           2       0.63      0.23      0.33       115\n",
            "           3       0.92      0.66      0.77       105\n",
            "\n",
            "   micro avg       0.82      0.64      0.72       450\n",
            "   macro avg       0.80      0.64      0.69       450\n",
            "weighted avg       0.80      0.64      0.69       450\n",
            " samples avg       0.64      0.64      0.64       450\n",
            "\n"
          ]
        }
      ]
    },
    {
      "cell_type": "code",
      "source": [
        "import pandas as pd\n"
      ],
      "metadata": {
        "id": "sN6e5tm4mv2z"
      },
      "execution_count": null,
      "outputs": []
    },
    {
      "cell_type": "code",
      "source": [
        "test_labels_tentative = pd.DataFrame(test_labels).idxmax(axis=1)\n",
        "preds_tentative = pd.DataFrame(preds).idxmax(axis=1)\n"
      ],
      "metadata": {
        "id": "ro95txL6n1Kk"
      },
      "execution_count": null,
      "outputs": []
    },
    {
      "cell_type": "code",
      "source": [
        "test_labels_tentative"
      ],
      "metadata": {
        "colab": {
          "base_uri": "https://localhost:8080/"
        },
        "id": "AwCJwK4Un28r",
        "outputId": "829bc8c2-46cc-4dc0-8e0f-eac90fbfcd2d"
      },
      "execution_count": null,
      "outputs": [
        {
          "output_type": "execute_result",
          "data": {
            "text/plain": [
              "0      0\n",
              "1      0\n",
              "2      0\n",
              "3      0\n",
              "4      0\n",
              "      ..\n",
              "445    3\n",
              "446    3\n",
              "447    3\n",
              "448    3\n",
              "449    3\n",
              "Length: 450, dtype: int64"
            ]
          },
          "metadata": {},
          "execution_count": 139
        }
      ]
    },
    {
      "cell_type": "code",
      "source": [
        "len(test_labels_tentative), len(test_labels)"
      ],
      "metadata": {
        "colab": {
          "base_uri": "https://localhost:8080/"
        },
        "id": "Oa_m1LfRn6M6",
        "outputId": "4ab2844f-f2de-4cff-f3ca-a529990eef60"
      },
      "execution_count": null,
      "outputs": [
        {
          "output_type": "execute_result",
          "data": {
            "text/plain": [
              "(450, 450)"
            ]
          },
          "metadata": {},
          "execution_count": 140
        }
      ]
    },
    {
      "cell_type": "code",
      "source": [
        "len(preds_tentative), len(preds)"
      ],
      "metadata": {
        "colab": {
          "base_uri": "https://localhost:8080/"
        },
        "id": "B5BF2kyBn91l",
        "outputId": "4c448ae2-d39f-4e61-dd7a-8a82103b6945"
      },
      "execution_count": null,
      "outputs": [
        {
          "output_type": "execute_result",
          "data": {
            "text/plain": [
              "(450, 450)"
            ]
          },
          "metadata": {},
          "execution_count": 141
        }
      ]
    },
    {
      "cell_type": "code",
      "source": [
        "confusion_matrix= confusion_matrix(test_labels_tentative, preds_tentative)"
      ],
      "metadata": {
        "id": "-m4BdVnnoBNH"
      },
      "execution_count": null,
      "outputs": []
    },
    {
      "cell_type": "code",
      "source": [
        "confusion_matrix"
      ],
      "metadata": {
        "colab": {
          "base_uri": "https://localhost:8080/"
        },
        "id": "5rIa6_rUoFVK",
        "outputId": "1c211095-22e5-43cc-e655-715f80fea880"
      },
      "execution_count": null,
      "outputs": [
        {
          "output_type": "execute_result",
          "data": {
            "text/plain": [
              "array([[114,   1,   0,   0],\n",
              "       [ 26,  85,   4,   0],\n",
              "       [ 48,  35,  26,   6],\n",
              "       [ 25,   0,  11,  69]])"
            ]
          },
          "metadata": {},
          "execution_count": 143
        }
      ]
    },
    {
      "cell_type": "code",
      "source": [
        "def plot_confusion_matrix(cm, classes,\n",
        "             normalize=False,\n",
        "             title='Confusion matrix',\n",
        "             cmap=plt.cm.Blues):\n",
        "    #Add Normalization Option\n",
        "    '''prints pretty confusion metric with normalization option '''\n",
        "    if normalize:\n",
        "        cm = cm.astype('float') / cm.sum(axis=1)[:, np.newaxis]\n",
        "        print(\"Normalized confusion matrix\")\n",
        "    else:\n",
        "        print('Confusion matrix, without normalization')\n",
        "\n",
        "#     print(cm)\n",
        "\n",
        "    plt.imshow(cm, interpolation='nearest', cmap=cmap)\n",
        "    plt.title(title)\n",
        "    plt.colorbar()\n",
        "    tick_marks = np.arange(len(classes))\n",
        "    plt.xticks(tick_marks, classes, rotation=45)\n",
        "    plt.yticks(tick_marks, classes)\n",
        "\n",
        "    fmt = '.2f' if normalize else 'd'\n",
        "    thresh = cm.max() / 2.\n",
        "    for i, j in itertools.product(range(cm.shape[0]), range(cm.shape[1])):\n",
        "        plt.text(j, i, format(cm[i, j], fmt), horizontalalignment=\"center\", color=\"white\" if cm[i, j] > thresh else \"black\")\n",
        "\n",
        "    plt.tight_layout()\n",
        "    plt.ylabel('True label')\n",
        "    plt.xlabel('Predicted label')\n",
        "\n",
        "\n",
        ""
      ],
      "metadata": {
        "id": "Z_5eikMzoIVJ"
      },
      "execution_count": null,
      "outputs": []
    },
    {
      "cell_type": "code",
      "source": [
        "import itertools\n"
      ],
      "metadata": {
        "id": "nIx51b9yoPbn"
      },
      "execution_count": null,
      "outputs": []
    },
    {
      "cell_type": "code",
      "source": [
        "plot_confusion_matrix(confusion_matrix,\n",
        "                      ['benign', 'insitu', 'invasive', 'later'],\n",
        "                     normalize=True)\n"
      ],
      "metadata": {
        "colab": {
          "base_uri": "https://localhost:8080/",
          "height": 328
        },
        "id": "2JEKCj8AoQ-W",
        "outputId": "3aca4019-74db-4f48-d433-ebe7dcd2f62b"
      },
      "execution_count": null,
      "outputs": [
        {
          "output_type": "stream",
          "name": "stdout",
          "text": [
            "Normalized confusion matrix\n"
          ]
        },
        {
          "output_type": "display_data",
          "data": {
            "text/plain": [
              "<Figure size 432x288 with 2 Axes>"
            ],
            "image/png": "[encoded data removed]"
          },
          "metadata": {
            "needs_background": "light"
          }
        }
      ]
    },
    {
      "cell_type": "code",
      "source": [],
      "metadata": {
        "id": "0gevnQnKbApL"
      },
      "execution_count": null,
      "outputs": []
    }
  ]
}